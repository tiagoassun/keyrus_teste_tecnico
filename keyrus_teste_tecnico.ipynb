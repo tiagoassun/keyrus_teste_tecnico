{
  "nbformat": 4,
  "nbformat_minor": 0,
  "metadata": {
    "colab": {
      "name": "keyrus-teste-tecnico.ipynb",
      "provenance": [],
      "collapsed_sections": [],
      "toc_visible": true,
      "authorship_tag": "ABX9TyOvPc+xrp0L7joHqW4+WxO+",
      "include_colab_link": true
    },
    "kernelspec": {
      "name": "python3",
      "display_name": "Python 3"
    }
  },
  "cells": [
    {
      "cell_type": "markdown",
      "metadata": {
        "id": "view-in-github",
        "colab_type": "text"
      },
      "source": [
        "<a href=\"https://colab.research.google.com/github/tiagoassun/keyrus_teste_tecnico/blob/main/keyrus_teste_tecnico.ipynb\" target=\"_parent\"><img src=\"https://colab.research.google.com/assets/colab-badge.svg\" alt=\"Open In Colab\"/></a>"
      ]
    },
    {
      "cell_type": "markdown",
      "metadata": {
        "id": "v00GJHOawGSu"
      },
      "source": [
        "# Teste Técnico de Engenharia de Dados"
      ]
    },
    {
      "cell_type": "markdown",
      "metadata": {
        "id": "VoDzzh4HUD5C"
      },
      "source": [
        "## 1 - Baixando, instalando e configurando o Apache Spark\n",
        "\n"
      ]
    },
    {
      "cell_type": "code",
      "metadata": {
        "id": "J-H4swR8wS6G"
      },
      "source": [
        "# Instalar as dependências\n",
        "!apt-get install openjdk-8-jdk-headless -qq > /dev/null\n",
        "\n",
        "# Baixando Apche Spark que será salvo em no diretorio \"/content/\"\n",
        "!wget -q https://archive.apache.org/dist/spark/spark-3.2.0/spark-3.2.0-bin-hadoop3.2.tgz\n",
        "!tar xf spark-3.2.0-bin-hadoop3.2.tgz"
      ],
      "execution_count": 1,
      "outputs": []
    },
    {
      "cell_type": "code",
      "metadata": {
        "id": "zZ8p1mnQ4MQg",
        "colab": {
          "base_uri": "https://localhost:8080/"
        },
        "outputId": "fefd0b96-b6c1-42b9-d4f3-18eb5cfd9175"
      },
      "source": [
        "# Baixando bibliotecas\n",
        "!pip install -q findspark\n",
        "!pip install pyspark[sql]\n",
        "!pip install seaborn\n",
        "!pip install geopandas"
      ],
      "execution_count": 2,
      "outputs": [
        {
          "output_type": "stream",
          "name": "stdout",
          "text": [
            "Collecting pyspark[sql]\n",
            "  Downloading pyspark-3.2.0.tar.gz (281.3 MB)\n",
            "\u001b[K     |████████████████████████████████| 281.3 MB 39 kB/s \n",
            "\u001b[?25hCollecting py4j==0.10.9.2\n",
            "  Downloading py4j-0.10.9.2-py2.py3-none-any.whl (198 kB)\n",
            "\u001b[K     |████████████████████████████████| 198 kB 54.2 MB/s \n",
            "\u001b[?25hRequirement already satisfied: pandas>=0.23.2 in /usr/local/lib/python3.7/dist-packages (from pyspark[sql]) (1.1.5)\n",
            "Requirement already satisfied: pyarrow>=1.0.0 in /usr/local/lib/python3.7/dist-packages (from pyspark[sql]) (3.0.0)\n",
            "Requirement already satisfied: pytz>=2017.2 in /usr/local/lib/python3.7/dist-packages (from pandas>=0.23.2->pyspark[sql]) (2018.9)\n",
            "Requirement already satisfied: python-dateutil>=2.7.3 in /usr/local/lib/python3.7/dist-packages (from pandas>=0.23.2->pyspark[sql]) (2.8.2)\n",
            "Requirement already satisfied: numpy>=1.15.4 in /usr/local/lib/python3.7/dist-packages (from pandas>=0.23.2->pyspark[sql]) (1.19.5)\n",
            "Requirement already satisfied: six>=1.5 in /usr/local/lib/python3.7/dist-packages (from python-dateutil>=2.7.3->pandas>=0.23.2->pyspark[sql]) (1.15.0)\n",
            "Building wheels for collected packages: pyspark\n",
            "  Building wheel for pyspark (setup.py) ... \u001b[?25l\u001b[?25hdone\n",
            "  Created wheel for pyspark: filename=pyspark-3.2.0-py2.py3-none-any.whl size=281805912 sha256=1bb5e3a796b3fe5267eebd0e871e4060d0e804c2e5df203257993b503b6a2c64\n",
            "  Stored in directory: /root/.cache/pip/wheels/0b/de/d2/9be5d59d7331c6c2a7c1b6d1a4f463ce107332b1ecd4e80718\n",
            "Successfully built pyspark\n",
            "Installing collected packages: py4j, pyspark\n",
            "Successfully installed py4j-0.10.9.2 pyspark-3.2.0\n",
            "Requirement already satisfied: seaborn in /usr/local/lib/python3.7/dist-packages (0.11.2)\n",
            "Requirement already satisfied: matplotlib>=2.2 in /usr/local/lib/python3.7/dist-packages (from seaborn) (3.2.2)\n",
            "Requirement already satisfied: pandas>=0.23 in /usr/local/lib/python3.7/dist-packages (from seaborn) (1.1.5)\n",
            "Requirement already satisfied: scipy>=1.0 in /usr/local/lib/python3.7/dist-packages (from seaborn) (1.4.1)\n",
            "Requirement already satisfied: numpy>=1.15 in /usr/local/lib/python3.7/dist-packages (from seaborn) (1.19.5)\n",
            "Requirement already satisfied: pyparsing!=2.0.4,!=2.1.2,!=2.1.6,>=2.0.1 in /usr/local/lib/python3.7/dist-packages (from matplotlib>=2.2->seaborn) (2.4.7)\n",
            "Requirement already satisfied: python-dateutil>=2.1 in /usr/local/lib/python3.7/dist-packages (from matplotlib>=2.2->seaborn) (2.8.2)\n",
            "Requirement already satisfied: kiwisolver>=1.0.1 in /usr/local/lib/python3.7/dist-packages (from matplotlib>=2.2->seaborn) (1.3.2)\n",
            "Requirement already satisfied: cycler>=0.10 in /usr/local/lib/python3.7/dist-packages (from matplotlib>=2.2->seaborn) (0.10.0)\n",
            "Requirement already satisfied: six in /usr/local/lib/python3.7/dist-packages (from cycler>=0.10->matplotlib>=2.2->seaborn) (1.15.0)\n",
            "Requirement already satisfied: pytz>=2017.2 in /usr/local/lib/python3.7/dist-packages (from pandas>=0.23->seaborn) (2018.9)\n",
            "Collecting geopandas\n",
            "  Downloading geopandas-0.10.2-py2.py3-none-any.whl (1.0 MB)\n",
            "\u001b[K     |████████████████████████████████| 1.0 MB 4.2 MB/s \n",
            "\u001b[?25hCollecting pyproj>=2.2.0\n",
            "  Downloading pyproj-3.2.1-cp37-cp37m-manylinux2010_x86_64.whl (6.3 MB)\n",
            "\u001b[K     |████████████████████████████████| 6.3 MB 33.8 MB/s \n",
            "\u001b[?25hRequirement already satisfied: shapely>=1.6 in /usr/local/lib/python3.7/dist-packages (from geopandas) (1.7.1)\n",
            "Collecting fiona>=1.8\n",
            "  Downloading Fiona-1.8.20-cp37-cp37m-manylinux1_x86_64.whl (15.4 MB)\n",
            "\u001b[K     |████████████████████████████████| 15.4 MB 38 kB/s \n",
            "\u001b[?25hRequirement already satisfied: pandas>=0.25.0 in /usr/local/lib/python3.7/dist-packages (from geopandas) (1.1.5)\n",
            "Collecting cligj>=0.5\n",
            "  Downloading cligj-0.7.2-py3-none-any.whl (7.1 kB)\n",
            "Collecting munch\n",
            "  Downloading munch-2.5.0-py2.py3-none-any.whl (10 kB)\n",
            "Requirement already satisfied: setuptools in /usr/local/lib/python3.7/dist-packages (from fiona>=1.8->geopandas) (57.4.0)\n",
            "Requirement already satisfied: attrs>=17 in /usr/local/lib/python3.7/dist-packages (from fiona>=1.8->geopandas) (21.2.0)\n",
            "Requirement already satisfied: six>=1.7 in /usr/local/lib/python3.7/dist-packages (from fiona>=1.8->geopandas) (1.15.0)\n",
            "Collecting click-plugins>=1.0\n",
            "  Downloading click_plugins-1.1.1-py2.py3-none-any.whl (7.5 kB)\n",
            "Requirement already satisfied: click>=4.0 in /usr/local/lib/python3.7/dist-packages (from fiona>=1.8->geopandas) (7.1.2)\n",
            "Requirement already satisfied: certifi in /usr/local/lib/python3.7/dist-packages (from fiona>=1.8->geopandas) (2021.5.30)\n",
            "Requirement already satisfied: python-dateutil>=2.7.3 in /usr/local/lib/python3.7/dist-packages (from pandas>=0.25.0->geopandas) (2.8.2)\n",
            "Requirement already satisfied: pytz>=2017.2 in /usr/local/lib/python3.7/dist-packages (from pandas>=0.25.0->geopandas) (2018.9)\n",
            "Requirement already satisfied: numpy>=1.15.4 in /usr/local/lib/python3.7/dist-packages (from pandas>=0.25.0->geopandas) (1.19.5)\n",
            "Installing collected packages: munch, cligj, click-plugins, pyproj, fiona, geopandas\n",
            "Successfully installed click-plugins-1.1.1 cligj-0.7.2 fiona-1.8.20 geopandas-0.10.2 munch-2.5.0 pyproj-3.2.1\n"
          ]
        }
      ]
    },
    {
      "cell_type": "code",
      "metadata": {
        "id": "wcMZAtYJwUkU"
      },
      "source": [
        "# Configurar as variáveis de ambiente do Linux que o Google Colab roda em cima\n",
        "import os\n",
        "os.environ[\"JAVA_HOME\"] = \"/usr/lib/jvm/java-8-openjdk-amd64\"\n",
        "os.environ[\"SPARK_HOME\"] = \"/content/spark-3.2.0-bin-hadoop3.2\""
      ],
      "execution_count": 3,
      "outputs": []
    },
    {
      "cell_type": "code",
      "metadata": {
        "id": "XvEz17Isii-N"
      },
      "source": [
        "# Tornar o pyspark \"importável\"\n",
        "import findspark\n",
        "findspark.init('spark-3.2.0-bin-hadoop3.2')"
      ],
      "execution_count": 4,
      "outputs": []
    },
    {
      "cell_type": "code",
      "metadata": {
        "id": "-16rvGez6YIc",
        "colab": {
          "base_uri": "https://localhost:8080/"
        },
        "outputId": "aa7e6dd9-782f-488f-b65d-8521df0acab5"
      },
      "source": [
        "# Iniciar uma sessão local\n",
        "import pyspark\n",
        "from pyspark.sql import SparkSession\n",
        "from pyspark.sql import SQLContext\n",
        "\n",
        "spark = SparkSession.builder.master('local[*]').getOrCreate()\n",
        "sqlContext = SQLContext(spark)"
      ],
      "execution_count": 5,
      "outputs": [
        {
          "output_type": "stream",
          "name": "stderr",
          "text": [
            "spark-3.2.0-bin-hadoop3.2/python/pyspark/sql/context.py:79: FutureWarning: Deprecated in 3.0.0. Use SparkSession.builder.getOrCreate() instead.\n",
            "  FutureWarning\n"
          ]
        }
      ]
    },
    {
      "cell_type": "code",
      "metadata": {
        "id": "EGmydWYZjBH5"
      },
      "source": [
        "# Import de tipos do Spark\n",
        "from pyspark.sql.functions import *\n",
        "from pyspark.sql.window import Window"
      ],
      "execution_count": 112,
      "outputs": []
    },
    {
      "cell_type": "markdown",
      "metadata": {
        "id": "L2fioBvJVIRX"
      },
      "source": [
        "## 2 - Transformações dos dados"
      ]
    },
    {
      "cell_type": "markdown",
      "metadata": {
        "id": "vAsvU1fZ5oAV"
      },
      "source": [
        "### 2.1 - Importando e lendo .CSV"
      ]
    },
    {
      "cell_type": "code",
      "metadata": {
        "id": "hz7pSsc9hE6r",
        "colab": {
          "base_uri": "https://localhost:8080/"
        },
        "outputId": "7cf0ea81-7b7a-4a0c-cbde-41065d0eb6ad"
      },
      "source": [
        "# Download do CSV para local, que será salvo no diretorio \"/content/\"\n",
        "!wget --quiet --show-progress https://raw.githubusercontent.com/tiagoassun/keyrus_teste_tecnico/main/cadastro-individual-MUNICIPIO-fim.csv"
      ],
      "execution_count": 8,
      "outputs": [
        {
          "output_type": "stream",
          "name": "stdout",
          "text": [
            "\r          cadastro-   0%[                    ]       0  --.-KB/s               \rcadastro-individual 100%[===================>]  43.14K  --.-KB/s    in 0.02s   \n"
          ]
        }
      ]
    },
    {
      "cell_type": "code",
      "metadata": {
        "id": "OLm0-tFKVGHp"
      },
      "source": [
        "# Carregar dados dos municípios\n",
        "df_municipio_csv = spark.read \\\n",
        "                .format(\"csv\") \\\n",
        "                .option(\"header\", \"true\") \\\n",
        "                .option(\"encoding\", \"ISO-8859-1\") \\\n",
        "                .load(\"./cadastro-individual-MUNICIPIO-fim.csv\")"
      ],
      "execution_count": 9,
      "outputs": []
    },
    {
      "cell_type": "code",
      "metadata": {
        "colab": {
          "base_uri": "https://localhost:8080/"
        },
        "id": "2f3bE_tTkkfa",
        "outputId": "9ff6650e-245e-4b79-ad75-a202f456724e"
      },
      "source": [
        "df_municipio_csv.printSchema()"
      ],
      "execution_count": 21,
      "outputs": [
        {
          "output_type": "stream",
          "name": "stdout",
          "text": [
            "root\n",
            " |-- uf: string (nullable = true)\n",
            " |-- ibge: string (nullable = true)\n",
            " |-- municipio: string (nullable = true)\n",
            " |-- parametro: string (nullable = true)\n",
            " |-- valor: string (nullable = true)\n",
            " |-- ano_quadrimestre: string (nullable = true)\n",
            " |-- ano: string (nullable = true)\n",
            " |-- quadrimestre: string (nullable = true)\n",
            "\n"
          ]
        }
      ]
    },
    {
      "cell_type": "markdown",
      "metadata": {
        "id": "P3K7SvBh5egX"
      },
      "source": [
        "### 2.2 - Modificando schema do DF"
      ]
    },
    {
      "cell_type": "code",
      "metadata": {
        "id": "Kz5ZwqpJebhn"
      },
      "source": [
        "# Convertando colunas para valores inteiros\n",
        "# Renomeando colunas\n",
        "# Retirando colunas\n",
        "df_municipio_cast = df_municipio_csv \\\n",
        "                        .withColumn('transacao', col(\"valor\").cast('int')) \\\n",
        "                        .withColumnRenamed(\"uf\", \"estado\") \\\n",
        "                        .withColumnRenamed(\"ano\", \"data_atualizacao\") \\\n",
        "                        .drop('ibge', 'parametro', 'ano_quadrimestre', 'quadrimestre', 'valor')"
      ],
      "execution_count": 100,
      "outputs": []
    },
    {
      "cell_type": "code",
      "metadata": {
        "colab": {
          "base_uri": "https://localhost:8080/"
        },
        "id": "sWae8wP_qBJg",
        "outputId": "de70f6d5-720c-4f29-e605-30ae10904dfa"
      },
      "source": [
        "df_municipio_cast.printSchema()"
      ],
      "execution_count": 101,
      "outputs": [
        {
          "output_type": "stream",
          "name": "stdout",
          "text": [
            "root\n",
            " |-- estado: string (nullable = true)\n",
            " |-- municipio: string (nullable = true)\n",
            " |-- data_atualizacao: string (nullable = true)\n",
            " |-- transacao: integer (nullable = true)\n",
            "\n"
          ]
        }
      ]
    },
    {
      "cell_type": "code",
      "metadata": {
        "colab": {
          "base_uri": "https://localhost:8080/"
        },
        "id": "Bdbg6E-JVP4y",
        "outputId": "68e6c3cb-bf81-4be9-91f4-a398301f286b"
      },
      "source": [
        "df_municipio_cast.show(10, False)"
      ],
      "execution_count": 102,
      "outputs": [
        {
          "output_type": "stream",
          "name": "stdout",
          "text": [
            "+------+-----------------------+----------------+---------+\n",
            "|estado|municipio              |data_atualizacao|transacao|\n",
            "+------+-----------------------+----------------+---------+\n",
            "|ES    |CACHOEIRO DE ITAPEMIRIM|2018            |130253   |\n",
            "|ES    |SOORETAMA              |2018            |14226    |\n",
            "|ES    |VENDA NOVA DO IMIGRANTE|2018            |22816    |\n",
            "|ES    |ITAPEMIRIM             |2018            |26584    |\n",
            "|ES    |IÚNA                   |2018            |20007    |\n",
            "|ES    |MUCURICI               |2018            |4905     |\n",
            "|ES    |NOVA VENÉCIA           |2018            |39970    |\n",
            "|ES    |RIO NOVO DO SUL        |2018            |8900     |\n",
            "|ES    |SANTA LEOPOLDINA       |2018            |6231     |\n",
            "|ES    |SANTA MARIA DE JETIBÁ  |2018            |24870    |\n",
            "+------+-----------------------+----------------+---------+\n",
            "only showing top 10 rows\n",
            "\n"
          ]
        }
      ]
    },
    {
      "cell_type": "markdown",
      "metadata": {
        "id": "xLGhL_Vt54Bb"
      },
      "source": [
        "### 2.3 - Agrupando dados"
      ]
    },
    {
      "cell_type": "code",
      "metadata": {
        "id": "9gNq5rvfWSgV"
      },
      "source": [
        "df_municipio_agrupado = df_municipio_cast \\\n",
        "            .groupBy(\"estado\", \"municipio\", \"data_atualizacao\")\\\n",
        "            .agg(sum('transacao').alias(\"transacao_por_ano\")) \\\n",
        "            .orderBy(\"data_atualizacao\")"
      ],
      "execution_count": 107,
      "outputs": []
    },
    {
      "cell_type": "code",
      "metadata": {
        "colab": {
          "base_uri": "https://localhost:8080/"
        },
        "id": "tslZhouUr_79",
        "outputId": "41fa2537-eef3-4137-ee3d-a30dc425a9d9"
      },
      "source": [
        "df_municipio_agrupado.where(\"municipio = 'VITÓRIA'\").show(10, False)"
      ],
      "execution_count": 108,
      "outputs": [
        {
          "output_type": "stream",
          "name": "stdout",
          "text": [
            "+------+---------+----------------+-----------------+\n",
            "|estado|municipio|data_atualizacao|transacao_por_ano|\n",
            "+------+---------+----------------+-----------------+\n",
            "|ES    |VITÓRIA  |2018            |296246           |\n",
            "|ES    |VITÓRIA  |2019            |399998           |\n",
            "|ES    |VITÓRIA  |2020            |531479           |\n",
            "|ES    |VITÓRIA  |2021            |223296           |\n",
            "+------+---------+----------------+-----------------+\n",
            "\n"
          ]
        }
      ]
    },
    {
      "cell_type": "markdown",
      "metadata": {
        "id": "1emHfQPP6LJI"
      },
      "source": [
        "### 2.4 - Criando ordem da transação"
      ]
    },
    {
      "cell_type": "markdown",
      "metadata": {
        "id": "eUVFYuW86Vef"
      },
      "source": [
        "#### 2.4.1 - Em SQL"
      ]
    },
    {
      "cell_type": "code",
      "metadata": {
        "id": "GcsA4BPLs2dn"
      },
      "source": [
        "# Criando tabela temporaria no Spark para poder usar consulta SQL\n",
        "df_municipio_agrupado.select('estado', 'municipio', 'data_atualizacao', 'transacao_por_ano').createOrReplaceTempView('tb_df_municipio_agrupado_temp')"
      ],
      "execution_count": 109,
      "outputs": []
    },
    {
      "cell_type": "code",
      "metadata": {
        "id": "-cZYrt5GyhgC"
      },
      "source": [
        "query_sql = \"\"\"\n",
        "SELECT \n",
        "    tb_temp.*, \n",
        "    RANK() OVER (PARTITION BY municipio ORDER BY municipio, data_atualizacao) AS ordem_transacao\n",
        "FROM tb_df_municipio_agrupado_temp AS tb_temp\n",
        "\"\"\"\n",
        "\n",
        "df_municipio_final_sql = spark.sql(query_sql)"
      ],
      "execution_count": 117,
      "outputs": []
    },
    {
      "cell_type": "code",
      "metadata": {
        "id": "OFqXc5n5_WoW"
      },
      "source": [
        "# Dropando a tabela temporaria pois não precisamos mais dela\n",
        "spark.catalog.dropTempView(\"tb_df_municipio_agrupado_temp\")"
      ],
      "execution_count": null,
      "outputs": []
    },
    {
      "cell_type": "code",
      "metadata": {
        "colab": {
          "base_uri": "https://localhost:8080/"
        },
        "id": "OYMJdYA1yqZv",
        "outputId": "74634537-1d4f-417a-82f9-65ea9e588425"
      },
      "source": [
        "df_municipio_final_sql.show(10, False)"
      ],
      "execution_count": 118,
      "outputs": [
        {
          "output_type": "stream",
          "name": "stdout",
          "text": [
            "+------+--------------+----------------+-----------------+---------------+\n",
            "|estado|municipio     |data_atualizacao|transacao_por_ano|ordem_transacao|\n",
            "+------+--------------+----------------+-----------------+---------------+\n",
            "|ES    |AFONSO CLÁUDIO|2018            |89996            |1              |\n",
            "|ES    |AFONSO CLÁUDIO|2019            |96079            |2              |\n",
            "|ES    |AFONSO CLÁUDIO|2020            |99651            |3              |\n",
            "|ES    |AFONSO CLÁUDIO|2021            |33977            |4              |\n",
            "|ES    |ALEGRE        |2018            |33262            |1              |\n",
            "|ES    |ALEGRE        |2019            |33679            |2              |\n",
            "|ES    |ALEGRE        |2020            |45179            |3              |\n",
            "|ES    |ALEGRE        |2021            |24106            |4              |\n",
            "|ES    |ALFREDO CHAVES|2018            |34501            |1              |\n",
            "|ES    |ALFREDO CHAVES|2019            |40936            |2              |\n",
            "+------+--------------+----------------+-----------------+---------------+\n",
            "only showing top 10 rows\n",
            "\n"
          ]
        }
      ]
    },
    {
      "cell_type": "markdown",
      "metadata": {
        "id": "4i0z9t0gBrBk"
      },
      "source": [
        "##### 2.4.1.1 - Gravando dados"
      ]
    },
    {
      "cell_type": "code",
      "metadata": {
        "id": "UffmzJcv-p_r"
      },
      "source": [
        "#Salvandos os dados localmente em \"/content/municipio_final_sql\"\n",
        "PATH = \"./municipio_final_sql\"\n",
        "\n",
        "df_municipio_final_sql.coalesce(1) \\\n",
        "        .write \\\n",
        "        .mode(\"overwrite\") \\\n",
        "        .save(PATH, format=\"parquet\")"
      ],
      "execution_count": 123,
      "outputs": []
    },
    {
      "cell_type": "markdown",
      "metadata": {
        "id": "HTZg1N-p8NF8"
      },
      "source": [
        "#### 2.4.2 - Em PySpark"
      ]
    },
    {
      "cell_type": "code",
      "metadata": {
        "id": "XNA-ypMa0VWG"
      },
      "source": [
        "janela = Window().partitionBy(\"municipio\").orderBy(\"municipio\", \"data_atualizacao\")\n",
        "\n",
        "df_municipio_final_pyspark = df_municipio_agrupado \\\n",
        "                                    .withColumn(\"ordem_transacao\", rank().over(janela))"
      ],
      "execution_count": 114,
      "outputs": []
    },
    {
      "cell_type": "code",
      "metadata": {
        "colab": {
          "base_uri": "https://localhost:8080/"
        },
        "id": "5-8OcVi998wr",
        "outputId": "3bbdce62-a22f-4625-d68b-3fc0e8e6748e"
      },
      "source": [
        "df_municipio_final_pyspark.show(10, False)"
      ],
      "execution_count": 115,
      "outputs": [
        {
          "output_type": "stream",
          "name": "stdout",
          "text": [
            "+------+--------------+----------------+-----------------+---------------+\n",
            "|estado|municipio     |data_atualizacao|transacao_por_ano|ordem_transacao|\n",
            "+------+--------------+----------------+-----------------+---------------+\n",
            "|ES    |AFONSO CLÁUDIO|2018            |89996            |1              |\n",
            "|ES    |AFONSO CLÁUDIO|2019            |96079            |2              |\n",
            "|ES    |AFONSO CLÁUDIO|2020            |99651            |3              |\n",
            "|ES    |AFONSO CLÁUDIO|2021            |33977            |4              |\n",
            "|ES    |ALEGRE        |2018            |33262            |1              |\n",
            "|ES    |ALEGRE        |2019            |33679            |2              |\n",
            "|ES    |ALEGRE        |2020            |45179            |3              |\n",
            "|ES    |ALEGRE        |2021            |24106            |4              |\n",
            "|ES    |ALFREDO CHAVES|2018            |34501            |1              |\n",
            "|ES    |ALFREDO CHAVES|2019            |40936            |2              |\n",
            "+------+--------------+----------------+-----------------+---------------+\n",
            "only showing top 10 rows\n",
            "\n"
          ]
        }
      ]
    },
    {
      "cell_type": "markdown",
      "metadata": {
        "id": "preuMxQv-Lby"
      },
      "source": [
        "##### 2.4.2.1 - Gravando dados"
      ]
    },
    {
      "cell_type": "code",
      "metadata": {
        "id": "UqEX6uvs_x4h"
      },
      "source": [
        "#Salvandos os dados localmente em \"/content/municipio_final_pyspark\"\n",
        "\n",
        "PATH = \"./municipio_final_pyspark\"\n",
        "\n",
        "df_municipio_final_pyspark.coalesce(1) \\\n",
        "    .write \\\n",
        "    .mode(\"overwrite\") \\\n",
        "    .save(PATH, format=\"orc\")"
      ],
      "execution_count": 124,
      "outputs": []
    }
  ]
}